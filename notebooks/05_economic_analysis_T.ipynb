{
 "cells": [
  {
   "cell_type": "markdown",
   "id": "76c0d394-c143-41d2-8251-e346d3eda0d9",
   "metadata": {},
   "source": [
    "# Wirtschaftlichkeit Analyse\n",
    "- Es werden die Speichersystem der Einzehlene Verbarucher wirtschaftlich analysiert\n",
    "- ..."
   ]
  },
  {
   "cell_type": "code",
   "execution_count": null,
   "id": "0815beaf-578d-450d-b8c1-52769553e88e",
   "metadata": {},
   "outputs": [],
   "source": []
  }
 ],
 "metadata": {
  "kernelspec": {
   "display_name": "Python 3 (ipykernel)",
   "language": "python",
   "name": "python3"
  },
  "language_info": {
   "codemirror_mode": {
    "name": "ipython",
    "version": 3
   },
   "file_extension": ".py",
   "mimetype": "text/x-python",
   "name": "python",
   "nbconvert_exporter": "python",
   "pygments_lexer": "ipython3",
   "version": "3.11.7"
  }
 },
 "nbformat": 4,
 "nbformat_minor": 5
}
