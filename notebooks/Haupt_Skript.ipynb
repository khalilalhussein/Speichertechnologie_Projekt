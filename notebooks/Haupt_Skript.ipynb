{
 "cells": [
  {
   "cell_type": "markdown",
   "id": "2b594546-8e0b-4b8c-b494-b574f4b53e2f",
   "metadata": {},
   "source": [
    "# Haupt_Skript\n",
    "- Es wird hier das Skript erstllt für gesammte Projekt erstellt\n",
    "- Dies soll duch Quarto zu Bericht in PDF umgewandlet oder Html seite(optional)\n",
    "- ..."
   ]
  },
  {
   "cell_type": "code",
   "execution_count": null,
   "id": "09af5a76-361c-415c-bb12-ddba5e959539",
   "metadata": {},
   "outputs": [],
   "source": []
  }
 ],
 "metadata": {
  "kernelspec": {
   "display_name": "Python 3 (ipykernel)",
   "language": "python",
   "name": "python3"
  },
  "language_info": {
   "codemirror_mode": {
    "name": "ipython",
    "version": 3
   },
   "file_extension": ".py",
   "mimetype": "text/x-python",
   "name": "python",
   "nbconvert_exporter": "python",
   "pygments_lexer": "ipython3",
   "version": "3.11.7"
  }
 },
 "nbformat": 4,
 "nbformat_minor": 5
}
