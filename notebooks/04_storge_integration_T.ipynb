{
 "cells": [
  {
   "cell_type": "markdown",
   "id": "b75df0bc-2fb1-4ed9-be6c-1607a0c5910a",
   "metadata": {},
   "source": [
    "# Speicher System\n",
    "- Es werden die Speicherarten festgelegt\n",
    "- ..."
   ]
  },
  {
   "cell_type": "code",
   "execution_count": null,
   "id": "d9702da4-503f-4c40-a49b-92d65f9f6480",
   "metadata": {},
   "outputs": [],
   "source": []
  }
 ],
 "metadata": {
  "kernelspec": {
   "display_name": "Python 3 (ipykernel)",
   "language": "python",
   "name": "python3"
  },
  "language_info": {
   "codemirror_mode": {
    "name": "ipython",
    "version": 3
   },
   "file_extension": ".py",
   "mimetype": "text/x-python",
   "name": "python",
   "nbconvert_exporter": "python",
   "pygments_lexer": "ipython3",
   "version": "3.11.7"
  }
 },
 "nbformat": 4,
 "nbformat_minor": 5
}
