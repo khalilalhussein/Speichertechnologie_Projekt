{
 "cells": [
  {
   "cell_type": "markdown",
   "id": "e2510581-42a5-4ff2-a4fe-e053de27d53b",
   "metadata": {},
   "source": [
    "# Stromnetz Modell\n",
    "- Es wird ein Modell für stromnetz erstellt\n",
    "- ..."
   ]
  },
  {
   "cell_type": "code",
   "execution_count": null,
   "id": "656f2154-291e-48b6-94fa-c1211345370d",
   "metadata": {},
   "outputs": [],
   "source": []
  },
  {
   "cell_type": "code",
   "execution_count": null,
   "id": "133cc0bf-dce0-4cf2-aee4-985708dfc80a",
   "metadata": {},
   "outputs": [],
   "source": []
  }
 ],
 "metadata": {
  "kernelspec": {
   "display_name": "Python 3 (ipykernel)",
   "language": "python",
   "name": "python3"
  },
  "language_info": {
   "codemirror_mode": {
    "name": "ipython",
    "version": 3
   },
   "file_extension": ".py",
   "mimetype": "text/x-python",
   "name": "python",
   "nbconvert_exporter": "python",
   "pygments_lexer": "ipython3",
   "version": "3.11.7"
  }
 },
 "nbformat": 4,
 "nbformat_minor": 5
}
