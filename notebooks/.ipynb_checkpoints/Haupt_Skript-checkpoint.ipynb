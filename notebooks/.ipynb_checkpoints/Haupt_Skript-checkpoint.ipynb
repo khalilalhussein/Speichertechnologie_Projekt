{
 "cells": [
  {
   "cell_type": "markdown",
   "id": "2b594546-8e0b-4b8c-b494-b574f4b53e2f",
   "metadata": {},
   "source": [
    "# Haupt_Skript\n",
    "- Es wird hier das Skript  für gesammte Projekt erstellt\n",
    "- Dies soll duch Quarto zu Bericht in PDF umgewandlet oder Html seite(optional)\n",
    "- ..."
   ]
  },
  {
   "cell_type": "markdown",
   "id": "1a646b64-a580-4b4d-9bea-9d15318b3568",
   "metadata": {},
   "source": [
    "<div style=\"text-align: center;\">\n",
    "\n",
    "<img src=\"Bilder/Hs_Bremen_Logo (2).png\" alt=\"HS Bremen Logo\" style=\"width:75%;\">\n",
    "\n",
    "# Modul 2.1 Speichertechnologie (SPT)\n",
    "\n",
    "---\n",
    "\n",
    "## **Projekt:**  \n",
    "## **Modellierung von Stromnetz, Solaranlage und Speichersystem**\n",
    "\n",
    "---\n",
    "\n",
    "### **Dozent:**  \n",
    "#### Prof. Dr.-Ing. Oliver Feindt\n",
    "\n",
    "---\n",
    "\n",
    "### **Fakultät 5 - Natur und Technik**\n",
    "\n",
    "#### **Studiengang:** Energietechnik M.Eng.  \n",
    "#### **Winter 2024-2025**\n",
    "\n",
    "---\n",
    "\n",
    "### **Abgabedatum:**  \n",
    "\n",
    "---\n",
    "### **Autoren :**\n",
    "#### **Khalil Alhussein (5088245)**\n",
    "#### **Yousef Aboud (5016813)**\n",
    "\n",
    "</div>\n"
   ]
  },
  {
   "cell_type": "code",
   "execution_count": null,
   "id": "9b042a73-d8d0-4668-9623-f0b8eba922b8",
   "metadata": {},
   "outputs": [],
   "source": []
  }
 ],
 "metadata": {
  "kernelspec": {
   "display_name": "Python 3 (ipykernel)",
   "language": "python",
   "name": "python3"
  },
  "language_info": {
   "codemirror_mode": {
    "name": "ipython",
    "version": 3
   },
   "file_extension": ".py",
   "mimetype": "text/x-python",
   "name": "python",
   "nbconvert_exporter": "python",
   "pygments_lexer": "ipython3",
   "version": "3.11.5"
  }
 },
 "nbformat": 4,
 "nbformat_minor": 5
}
